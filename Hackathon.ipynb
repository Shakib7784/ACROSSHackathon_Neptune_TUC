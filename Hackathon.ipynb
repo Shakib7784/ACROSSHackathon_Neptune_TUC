{
  "nbformat": 4,
  "nbformat_minor": 0,
  "metadata": {
    "colab": {
      "provenance": []
    },
    "kernelspec": {
      "name": "python3",
      "display_name": "Python 3"
    },
    "language_info": {
      "name": "python"
    },
    "widgets": {
      "application/vnd.jupyter.widget-state+json": {
        "56e7f51832164da597b97e0a7f69ade5": {
          "model_module": "@jupyter-widgets/controls",
          "model_name": "TextModel",
          "model_module_version": "1.5.0",
          "state": {
            "_dom_classes": [],
            "_model_module": "@jupyter-widgets/controls",
            "_model_module_version": "1.5.0",
            "_model_name": "TextModel",
            "_view_count": null,
            "_view_module": "@jupyter-widgets/controls",
            "_view_module_version": "1.5.0",
            "_view_name": "TextView",
            "continuous_update": true,
            "description": "Search:",
            "description_tooltip": null,
            "disabled": false,
            "layout": "IPY_MODEL_ca94b7a591be490ea34e86d17fbac9e4",
            "placeholder": "Enter a paper title or keyword...",
            "style": "IPY_MODEL_85c81a5399444666b183229fcfc4821c",
            "value": "Machine Learning"
          }
        },
        "ca94b7a591be490ea34e86d17fbac9e4": {
          "model_module": "@jupyter-widgets/base",
          "model_name": "LayoutModel",
          "model_module_version": "1.2.0",
          "state": {
            "_model_module": "@jupyter-widgets/base",
            "_model_module_version": "1.2.0",
            "_model_name": "LayoutModel",
            "_view_count": null,
            "_view_module": "@jupyter-widgets/base",
            "_view_module_version": "1.2.0",
            "_view_name": "LayoutView",
            "align_content": null,
            "align_items": null,
            "align_self": null,
            "border": null,
            "bottom": null,
            "display": null,
            "flex": null,
            "flex_flow": null,
            "grid_area": null,
            "grid_auto_columns": null,
            "grid_auto_flow": null,
            "grid_auto_rows": null,
            "grid_column": null,
            "grid_gap": null,
            "grid_row": null,
            "grid_template_areas": null,
            "grid_template_columns": null,
            "grid_template_rows": null,
            "height": null,
            "justify_content": null,
            "justify_items": null,
            "left": null,
            "margin": null,
            "max_height": null,
            "max_width": null,
            "min_height": null,
            "min_width": null,
            "object_fit": null,
            "object_position": null,
            "order": null,
            "overflow": null,
            "overflow_x": null,
            "overflow_y": null,
            "padding": null,
            "right": null,
            "top": null,
            "visibility": null,
            "width": "75%"
          }
        },
        "85c81a5399444666b183229fcfc4821c": {
          "model_module": "@jupyter-widgets/controls",
          "model_name": "DescriptionStyleModel",
          "model_module_version": "1.5.0",
          "state": {
            "_model_module": "@jupyter-widgets/controls",
            "_model_module_version": "1.5.0",
            "_model_name": "DescriptionStyleModel",
            "_view_count": null,
            "_view_module": "@jupyter-widgets/base",
            "_view_module_version": "1.2.0",
            "_view_name": "StyleView",
            "description_width": "initial"
          }
        },
        "fae54599c03b413a8427c5cad3a1304e": {
          "model_module": "@jupyter-widgets/controls",
          "model_name": "ButtonModel",
          "model_module_version": "1.5.0",
          "state": {
            "_dom_classes": [],
            "_model_module": "@jupyter-widgets/controls",
            "_model_module_version": "1.5.0",
            "_model_name": "ButtonModel",
            "_view_count": null,
            "_view_module": "@jupyter-widgets/controls",
            "_view_module_version": "1.5.0",
            "_view_name": "ButtonView",
            "button_style": "primary",
            "description": "Recommend Papers",
            "disabled": false,
            "icon": "",
            "layout": "IPY_MODEL_66587df0b4c5462eb1d228ff89c920df",
            "style": "IPY_MODEL_e5511cc62ffb40ffb8299d10105cda79",
            "tooltip": ""
          }
        },
        "66587df0b4c5462eb1d228ff89c920df": {
          "model_module": "@jupyter-widgets/base",
          "model_name": "LayoutModel",
          "model_module_version": "1.2.0",
          "state": {
            "_model_module": "@jupyter-widgets/base",
            "_model_module_version": "1.2.0",
            "_model_name": "LayoutModel",
            "_view_count": null,
            "_view_module": "@jupyter-widgets/base",
            "_view_module_version": "1.2.0",
            "_view_name": "LayoutView",
            "align_content": null,
            "align_items": null,
            "align_self": null,
            "border": null,
            "bottom": null,
            "display": null,
            "flex": null,
            "flex_flow": null,
            "grid_area": null,
            "grid_auto_columns": null,
            "grid_auto_flow": null,
            "grid_auto_rows": null,
            "grid_column": null,
            "grid_gap": null,
            "grid_row": null,
            "grid_template_areas": null,
            "grid_template_columns": null,
            "grid_template_rows": null,
            "height": null,
            "justify_content": null,
            "justify_items": null,
            "left": null,
            "margin": null,
            "max_height": null,
            "max_width": null,
            "min_height": null,
            "min_width": null,
            "object_fit": null,
            "object_position": null,
            "order": null,
            "overflow": null,
            "overflow_x": null,
            "overflow_y": null,
            "padding": null,
            "right": null,
            "top": null,
            "visibility": null,
            "width": null
          }
        },
        "e5511cc62ffb40ffb8299d10105cda79": {
          "model_module": "@jupyter-widgets/controls",
          "model_name": "ButtonStyleModel",
          "model_module_version": "1.5.0",
          "state": {
            "_model_module": "@jupyter-widgets/controls",
            "_model_module_version": "1.5.0",
            "_model_name": "ButtonStyleModel",
            "_view_count": null,
            "_view_module": "@jupyter-widgets/base",
            "_view_module_version": "1.2.0",
            "_view_name": "StyleView",
            "button_color": null,
            "font_weight": ""
          }
        },
        "d50ebf6491e2435a9a56b4a91ce31b19": {
          "model_module": "@jupyter-widgets/output",
          "model_name": "OutputModel",
          "model_module_version": "1.0.0",
          "state": {
            "_dom_classes": [],
            "_model_module": "@jupyter-widgets/output",
            "_model_module_version": "1.0.0",
            "_model_name": "OutputModel",
            "_view_count": null,
            "_view_module": "@jupyter-widgets/output",
            "_view_module_version": "1.0.0",
            "_view_name": "OutputView",
            "layout": "IPY_MODEL_8715c4999f154317b9b59a755054d2dd",
            "msg_id": "",
            "outputs": [
              {
                "output_type": "display_data",
                "data": {
                  "text/plain": "<IPython.core.display.Markdown object>",
                  "text/markdown": "### 📚 Recommendations for: *Machine Learning*"
                },
                "metadata": {}
              },
              {
                "output_type": "display_data",
                "data": {
                  "text/plain": "<IPython.core.display.Markdown object>",
                  "text/markdown": "➡️ **Sampling Attacks: Amplification of Membership Inference Attacks by   Repeated Queries**  \n*Similarity:* `0.86`"
                },
                "metadata": {}
              },
              {
                "output_type": "display_data",
                "data": {
                  "text/plain": "<IPython.core.display.Markdown object>",
                  "text/markdown": "➡️ **Inf2Guard: An Information-Theoretic Framework for Learning   Privacy-Preserving Representations against Inference Attacks**  \n*Similarity:* `0.80`"
                },
                "metadata": {}
              },
              {
                "output_type": "display_data",
                "data": {
                  "text/plain": "<IPython.core.display.Markdown object>",
                  "text/markdown": "➡️ **Membership Inference Attacks on Deep Regression Models for Neuroimaging**  \n*Similarity:* `0.78`"
                },
                "metadata": {}
              },
              {
                "output_type": "display_data",
                "data": {
                  "text/plain": "<IPython.core.display.Markdown object>",
                  "text/markdown": "➡️ **Defending Against Machine Learning Model Stealing Attacks Using   Deceptive Perturbations**  \n*Similarity:* `0.75`"
                },
                "metadata": {}
              },
              {
                "output_type": "display_data",
                "data": {
                  "text/plain": "<IPython.core.display.Markdown object>",
                  "text/markdown": "➡️ **CANIFE: Crafting Canaries for Empirical Privacy Measurement in Federated   Learning**  \n*Similarity:* `0.74`"
                },
                "metadata": {}
              },
              {
                "output_type": "display_data",
                "data": {
                  "text/plain": "<IPython.core.display.Markdown object>",
                  "text/markdown": "➡️ **Seeing the Forest through the Trees: Data Leakage from Partial   Transformer Gradients**  \n*Similarity:* `0.74`"
                },
                "metadata": {}
              },
              {
                "output_type": "display_data",
                "data": {
                  "text/plain": "<IPython.core.display.Markdown object>",
                  "text/markdown": "➡️ **Killing four birds with one Gaussian process: the relation between   different test-time attacks**  \n*Similarity:* `0.72`"
                },
                "metadata": {}
              },
              {
                "output_type": "display_data",
                "data": {
                  "text/plain": "<IPython.core.display.Markdown object>",
                  "text/markdown": "➡️ **Detection of Adversarial Training Examples in Poisoning Attacks through   Anomaly Detection**  \n*Similarity:* `0.72`"
                },
                "metadata": {}
              },
              {
                "output_type": "display_data",
                "data": {
                  "text/plain": "<IPython.core.display.Markdown object>",
                  "text/markdown": "➡️ **Evasion Attacks against Machine Learning at Test Time**  \n*Similarity:* `0.72`"
                },
                "metadata": {}
              },
              {
                "output_type": "display_data",
                "data": {
                  "text/plain": "<IPython.core.display.Markdown object>",
                  "text/markdown": "➡️ **Countering Backdoor Attacks in Image Recognition: A Survey and   Evaluation of Mitigation Strategies**  \n*Similarity:* `0.66`"
                },
                "metadata": {}
              }
            ]
          }
        },
        "8715c4999f154317b9b59a755054d2dd": {
          "model_module": "@jupyter-widgets/base",
          "model_name": "LayoutModel",
          "model_module_version": "1.2.0",
          "state": {
            "_model_module": "@jupyter-widgets/base",
            "_model_module_version": "1.2.0",
            "_model_name": "LayoutModel",
            "_view_count": null,
            "_view_module": "@jupyter-widgets/base",
            "_view_module_version": "1.2.0",
            "_view_name": "LayoutView",
            "align_content": null,
            "align_items": null,
            "align_self": null,
            "border": null,
            "bottom": null,
            "display": null,
            "flex": null,
            "flex_flow": null,
            "grid_area": null,
            "grid_auto_columns": null,
            "grid_auto_flow": null,
            "grid_auto_rows": null,
            "grid_column": null,
            "grid_gap": null,
            "grid_row": null,
            "grid_template_areas": null,
            "grid_template_columns": null,
            "grid_template_rows": null,
            "height": null,
            "justify_content": null,
            "justify_items": null,
            "left": null,
            "margin": null,
            "max_height": null,
            "max_width": null,
            "min_height": null,
            "min_width": null,
            "object_fit": null,
            "object_position": null,
            "order": null,
            "overflow": null,
            "overflow_x": null,
            "overflow_y": null,
            "padding": null,
            "right": null,
            "top": null,
            "visibility": null,
            "width": null
          }
        }
      }
    }
  },
  "cells": [
    {
      "cell_type": "code",
      "execution_count": 73,
      "metadata": {
        "id": "BTJCizx3vzP-"
      },
      "outputs": [],
      "source": []
    },
    {
      "cell_type": "code",
      "source": [
        "import pandas as pd\n",
        "import numpy as np\n",
        "import gdown\n",
        "\n",
        "\n",
        "# 📁 Download CSV\n",
        "gdown.download(\"https://drive.google.com/uc?id=13fdkm8OqrzcxB93ADhFw-VWt95C-__XG\", \"arxiv_tokenized_balanced.csv\", quiet=False)\n",
        "\n",
        "\n",
        "# 📁 Download NPY\n",
        "gdown.download(\"https://drive.google.com/uc?id=13j3Lx5-qmByx4HYL4K2jIlP38Y1xXhmk\", \"arxiv_minilm_embeddings.npy\", quiet=False)\n",
        "\n",
        "\n",
        "# 📊 Load data\n",
        "df = pd.read_csv(\"arxiv_tokenized_balanced.csv\")\n",
        "embeddings = np.load(\"arxiv_minilm_embeddings.npy\")\n"
      ],
      "metadata": {
        "colab": {
          "base_uri": "https://localhost:8080/"
        },
        "id": "dxZQMTExAAML",
        "outputId": "17bf7c8d-f1bd-4c6b-d57e-01cac0ec7e1b"
      },
      "execution_count": 74,
      "outputs": [
        {
          "output_type": "stream",
          "name": "stderr",
          "text": [
            "Downloading...\n",
            "From (original): https://drive.google.com/uc?id=13fdkm8OqrzcxB93ADhFw-VWt95C-__XG\n",
            "From (redirected): https://drive.google.com/uc?id=13fdkm8OqrzcxB93ADhFw-VWt95C-__XG&confirm=t&uuid=6d59ce06-b562-4e2b-9d10-dbcd58204d9d\n",
            "To: /content/arxiv_tokenized_balanced.csv\n",
            "100%|██████████| 715M/715M [00:09<00:00, 73.0MB/s]\n",
            "Downloading...\n",
            "From (original): https://drive.google.com/uc?id=13j3Lx5-qmByx4HYL4K2jIlP38Y1xXhmk\n",
            "From (redirected): https://drive.google.com/uc?id=13j3Lx5-qmByx4HYL4K2jIlP38Y1xXhmk&confirm=t&uuid=0a0760f2-4a28-4a51-9179-9223f2f20a28\n",
            "To: /content/arxiv_minilm_embeddings.npy\n",
            "100%|██████████| 174M/174M [00:01<00:00, 137MB/s]\n"
          ]
        }
      ]
    },
    {
      "cell_type": "code",
      "source": [],
      "metadata": {
        "id": "zGIYYaMDx9g-"
      },
      "execution_count": 63,
      "outputs": []
    },
    {
      "cell_type": "code",
      "source": [
        "df.head()\n",
        "df.columns\n"
      ],
      "metadata": {
        "colab": {
          "base_uri": "https://localhost:8080/"
        },
        "id": "A-hGbhgqzM85",
        "outputId": "5362a62c-a8d0-45b6-d3e7-b34928aa55e5"
      },
      "execution_count": 75,
      "outputs": [
        {
          "output_type": "execute_result",
          "data": {
            "text/plain": [
              "Index(['id', 'title', 'abstract', 'submitter', 'authors', 'comments',\n",
              "       'journal-ref', 'doi', 'report-no', 'categories', 'license',\n",
              "       'update_date', 'authors_parsed', 'main_category', 'combined_text',\n",
              "       'input_ids', 'attention_mask'],\n",
              "      dtype='object')"
            ]
          },
          "metadata": {},
          "execution_count": 75
        }
      ]
    },
    {
      "cell_type": "code",
      "source": [
        "df.shape[0]\n"
      ],
      "metadata": {
        "colab": {
          "base_uri": "https://localhost:8080/"
        },
        "id": "uUBn3QytKh8T",
        "outputId": "d3a43521-6369-4d22-cdd9-c762e6433c23"
      },
      "execution_count": 76,
      "outputs": [
        {
          "output_type": "execute_result",
          "data": {
            "text/plain": [
              "113463"
            ]
          },
          "metadata": {},
          "execution_count": 76
        }
      ]
    },
    {
      "cell_type": "code",
      "source": [
        "# Clean title and abstract columns\n",
        "df['title'] = df['title'].astype(str).str.replace('\\n', ' ').str.strip()\n",
        "df['abstract'] = df['abstract'].astype(str).str.replace('\\n', ' ').str.strip()\n",
        "df['authors'] = df['authors'].astype(str).str.replace('\\n', ' ').str.strip()\n",
        "\n"
      ],
      "metadata": {
        "id": "t7O09ryn2NBA"
      },
      "execution_count": 77,
      "outputs": []
    },
    {
      "cell_type": "code",
      "source": [
        "from sklearn.metrics.pairwise import cosine_similarity\n",
        "\n",
        "# Example: get top matches for a selected paper index\n",
        "def recommend_by_index(idx, top_n=None, min_similarity=0.3):\n",
        "    sim_scores = list(enumerate(cosine_similarity([embeddings[idx]], embeddings)[0]))\n",
        "    sim_scores = [(i, score) for i, score in sim_scores if i != idx and score >= min_similarity]\n",
        "    sim_scores = sorted(sim_scores, key=lambda x: x[1], reverse=True)[:top_n]\n",
        "    return [(df['title'][i], score) for i, score in sim_scores]\n"
      ],
      "metadata": {
        "id": "QFd-14lfzAul"
      },
      "execution_count": 78,
      "outputs": []
    },
    {
      "cell_type": "code",
      "source": [
        "def recommend(title, top_n=10, min_similarity=0.5):\n",
        "    try:\n",
        "        idx = df[df['title'] == title].index[0]\n",
        "        return recommend_by_index(idx, top_n, min_similarity)\n",
        "    except IndexError:\n",
        "        return []\n"
      ],
      "metadata": {
        "id": "TZz3SUIU1Nbt"
      },
      "execution_count": 79,
      "outputs": []
    },
    {
      "cell_type": "code",
      "source": [
        "# Step 7: Try it!\n",
        "#paper = 'Deep Learning'\n",
        "#print(f\"📚 Recommendations for: {paper}\")\n",
        "#for rec in recommend(paper):\n",
        "    #print(f\"➡️ {rec[0]} (Similarity: {rec[1]:.2f})\")\n"
      ],
      "metadata": {
        "id": "2exKoCCF1YAb"
      },
      "execution_count": 80,
      "outputs": []
    },
    {
      "cell_type": "code",
      "source": [
        "import ipywidgets as widgets\n",
        "from IPython.display import display, Markdown, clear_output\n",
        "\n",
        "# Preprocessing — only needs to be done once\n",
        "df['title_lower'] = df['title'].str.lower()\n",
        "\n",
        "# Input widget\n",
        "search_input = widgets.Text(\n",
        "    placeholder='Enter a paper title or keyword...',\n",
        "    description='Search:',\n",
        "    layout=widgets.Layout(width='75%'),\n",
        "    style={'description_width': 'initial'}\n",
        ")\n",
        "\n",
        "search_button = widgets.Button(description=\"Recommend Papers\", button_style='primary')\n",
        "search_output = widgets.Output()\n",
        "\n",
        "\n",
        "# Click handler\n",
        "def on_search_click(b):\n",
        "    with search_output:\n",
        "        clear_output()\n",
        "        query = search_input.value.strip().lower()\n",
        "\n",
        "        if len(query) < 3:\n",
        "            display(Markdown(\"⚠️ Please enter at least 3 characters.\"))\n",
        "            return\n",
        "\n",
        "        # FAST match\n",
        "        match = df[df['title_lower'].str.contains(query, na=False)]\n",
        "\n",
        "        if not match.empty:\n",
        "            matched_title = match.iloc[0]['title']\n",
        "            results = recommend(\n",
        "                title=matched_title,\n",
        "\n",
        "                top_n=10,\n",
        "                min_similarity=0.5\n",
        "            )\n",
        "            display(Markdown(f\"### 📚 Recommendations for: *{search_input.value.strip()}*\"))\n",
        "\n",
        "            if results:\n",
        "                for title, score in results:\n",
        "                    display(Markdown(f\"➡️ **{title}**  \\n*Similarity:* `{score:.2f}`\"))\n",
        "            else:\n",
        "                display(Markdown(\"⚠️ No relevant papers found above the similarity threshold.\"))\n",
        "        else:\n",
        "            display(Markdown(\"❌ No paper title contains those keywords.\"))\n",
        "\n",
        "search_button.on_click(on_search_click)\n",
        "\n",
        "# Show UI\n",
        "display(Markdown(\"## 🔍 Paper Recommender System\"))\n",
        "display(search_input, search_button, search_output)\n"
      ],
      "metadata": {
        "id": "t6A4YO_c3QFD",
        "colab": {
          "base_uri": "https://localhost:8080/",
          "height": 576,
          "referenced_widgets": [
            "56e7f51832164da597b97e0a7f69ade5",
            "ca94b7a591be490ea34e86d17fbac9e4",
            "85c81a5399444666b183229fcfc4821c",
            "fae54599c03b413a8427c5cad3a1304e",
            "66587df0b4c5462eb1d228ff89c920df",
            "e5511cc62ffb40ffb8299d10105cda79",
            "d50ebf6491e2435a9a56b4a91ce31b19",
            "8715c4999f154317b9b59a755054d2dd"
          ]
        },
        "outputId": "9ff38846-af64-4eee-83a2-ba749686dd33"
      },
      "execution_count": 82,
      "outputs": [
        {
          "output_type": "display_data",
          "data": {
            "text/plain": [
              "<IPython.core.display.Markdown object>"
            ],
            "text/markdown": "## 🔍 Paper Recommender System"
          },
          "metadata": {}
        },
        {
          "output_type": "display_data",
          "data": {
            "text/plain": [
              "Text(value='', description='Search:', layout=Layout(width='75%'), placeholder='Enter a paper title or keyword.…"
            ],
            "application/vnd.jupyter.widget-view+json": {
              "version_major": 2,
              "version_minor": 0,
              "model_id": "56e7f51832164da597b97e0a7f69ade5"
            }
          },
          "metadata": {}
        },
        {
          "output_type": "display_data",
          "data": {
            "text/plain": [
              "Button(button_style='primary', description='Recommend Papers', style=ButtonStyle())"
            ],
            "application/vnd.jupyter.widget-view+json": {
              "version_major": 2,
              "version_minor": 0,
              "model_id": "fae54599c03b413a8427c5cad3a1304e"
            }
          },
          "metadata": {}
        },
        {
          "output_type": "display_data",
          "data": {
            "text/plain": [
              "Output()"
            ],
            "application/vnd.jupyter.widget-view+json": {
              "version_major": 2,
              "version_minor": 0,
              "model_id": "d50ebf6491e2435a9a56b4a91ce31b19"
            }
          },
          "metadata": {}
        }
      ]
    },
    {
      "cell_type": "code",
      "source": [],
      "metadata": {
        "id": "_6zR7ZYYpWq4"
      },
      "execution_count": 33,
      "outputs": []
    },
    {
      "cell_type": "code",
      "source": [],
      "metadata": {
        "id": "5mp0wFQHEf-7"
      },
      "execution_count": 6,
      "outputs": []
    },
    {
      "cell_type": "code",
      "source": [],
      "metadata": {
        "id": "STG7xNKfBMdy"
      },
      "execution_count": 6,
      "outputs": []
    },
    {
      "cell_type": "code",
      "source": [],
      "metadata": {
        "id": "BpltlaQOENYR"
      },
      "execution_count": null,
      "outputs": []
    }
  ]
}